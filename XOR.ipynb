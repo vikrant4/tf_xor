{
 "cells": [
  {
   "cell_type": "code",
   "execution_count": 1,
   "metadata": {},
   "outputs": [],
   "source": [
    "import numpy as np"
   ]
  },
  {
   "cell_type": "code",
   "execution_count": 11,
   "metadata": {},
   "outputs": [],
   "source": [
    "x1 = np.random.choice([0, 1], size=10000)\n",
    "x2 = np.random.choice([0, 1], size=10000)\n",
    "y = x1 + x2"
   ]
  },
  {
   "cell_type": "code",
   "execution_count": 12,
   "metadata": {},
   "outputs": [],
   "source": [
    "y[y == 2] = 0"
   ]
  },
  {
   "cell_type": "code",
   "execution_count": 15,
   "metadata": {},
   "outputs": [],
   "source": [
    "X = np.column_stack((x1, x2))"
   ]
  },
  {
   "cell_type": "code",
   "execution_count": 16,
   "metadata": {},
   "outputs": [
    {
     "data": {
      "text/plain": [
       "(10000, 2)"
      ]
     },
     "execution_count": 16,
     "metadata": {},
     "output_type": "execute_result"
    }
   ],
   "source": [
    "X.shape"
   ]
  },
  {
   "cell_type": "code",
   "execution_count": 13,
   "metadata": {},
   "outputs": [],
   "source": [
    "import tensorflow as tf"
   ]
  },
  {
   "cell_type": "code",
   "execution_count": 23,
   "metadata": {},
   "outputs": [],
   "source": [
    "model = tf.keras.models.Sequential([\n",
    "    tf.keras.layers.Dense(2, input_shape=(2,), activation='relu'),\n",
    "    tf.keras.layers.Dense(1, activation='sigmoid')\n",
    "])"
   ]
  },
  {
   "cell_type": "code",
   "execution_count": 24,
   "metadata": {},
   "outputs": [],
   "source": [
    "model.compile(\n",
    "    optimizer=tf.train.RMSPropOptimizer(0.01),\n",
    "    loss=tf.keras.losses.binary_crossentropy,\n",
    "    metrics=[tf.keras.metrics.categorical_accuracy]\n",
    ")"
   ]
  },
  {
   "cell_type": "code",
   "execution_count": 25,
   "metadata": {},
   "outputs": [
    {
     "name": "stdout",
     "output_type": "stream",
     "text": [
      "Epoch 1/10\n",
      "10000/10000 [==============================] - 1s 132us/step - loss: 0.5762 - categorical_accuracy: 1.0000\n",
      "Epoch 2/10\n",
      "10000/10000 [==============================] - 0s 41us/step - loss: 0.4743 - categorical_accuracy: 1.0000\n",
      "Epoch 3/10\n",
      "10000/10000 [==============================] - 0s 41us/step - loss: 0.4724 - categorical_accuracy: 1.0000\n",
      "Epoch 4/10\n",
      "10000/10000 [==============================] - 0s 38us/step - loss: 0.4728 - categorical_accuracy: 1.0000\n",
      "Epoch 5/10\n",
      "10000/10000 [==============================] - 0s 38us/step - loss: 0.4727 - categorical_accuracy: 1.0000\n",
      "Epoch 6/10\n",
      "10000/10000 [==============================] - 0s 40us/step - loss: 0.4726 - categorical_accuracy: 1.0000\n",
      "Epoch 7/10\n",
      "10000/10000 [==============================] - 0s 42us/step - loss: 0.4727 - categorical_accuracy: 1.0000\n",
      "Epoch 8/10\n",
      "10000/10000 [==============================] - 0s 45us/step - loss: 0.4727 - categorical_accuracy: 1.0000\n",
      "Epoch 9/10\n",
      "10000/10000 [==============================] - 0s 44us/step - loss: 0.4727 - categorical_accuracy: 1.0000\n",
      "Epoch 10/10\n",
      "10000/10000 [==============================] - 0s 43us/step - loss: 0.4728 - categorical_accuracy: 1.0000\n"
     ]
    },
    {
     "data": {
      "text/plain": [
       "<tensorflow.python.keras.callbacks.History at 0x1f801238048>"
      ]
     },
     "execution_count": 25,
     "metadata": {},
     "output_type": "execute_result"
    }
   ],
   "source": [
    "model.fit(X, y, epochs=10, batch_size=32)"
   ]
  },
  {
   "cell_type": "code",
   "execution_count": 26,
   "metadata": {},
   "outputs": [],
   "source": [
    "val_data = np.random.choice([0, 1], size=8).reshape(4, 2)"
   ]
  },
  {
   "cell_type": "code",
   "execution_count": 28,
   "metadata": {},
   "outputs": [
    {
     "data": {
      "text/plain": [
       "array([[1, 0],\n",
       "       [0, 0],\n",
       "       [1, 1],\n",
       "       [1, 0]])"
      ]
     },
     "execution_count": 28,
     "metadata": {},
     "output_type": "execute_result"
    }
   ],
   "source": [
    "val_data"
   ]
  },
  {
   "cell_type": "code",
   "execution_count": 30,
   "metadata": {},
   "outputs": [
    {
     "data": {
      "text/plain": [
       "array([[0.32885015],\n",
       "       [0.32885015],\n",
       "       [0.32885015],\n",
       "       [0.32885015]], dtype=float32)"
      ]
     },
     "execution_count": 30,
     "metadata": {},
     "output_type": "execute_result"
    }
   ],
   "source": [
    "model.predict(val_data)"
   ]
  }
 ],
 "metadata": {
  "kernelspec": {
   "display_name": "Python 3",
   "language": "python",
   "name": "python3"
  },
  "language_info": {
   "codemirror_mode": {
    "name": "ipython",
    "version": 3
   },
   "file_extension": ".py",
   "mimetype": "text/x-python",
   "name": "python",
   "nbconvert_exporter": "python",
   "pygments_lexer": "ipython3",
   "version": "3.6.8"
  }
 },
 "nbformat": 4,
 "nbformat_minor": 2
}
